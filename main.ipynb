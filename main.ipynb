{
 "cells": [
  {
   "cell_type": "code",
   "execution_count": null,
   "metadata": {},
   "outputs": [],
   "source": [
    "from create_transcript import create_transcript \n",
    "from record_audio import record_memo\n",
    "from llm_call import LLMCall\n",
    "from create_docx import create_docx\n",
    "\n",
    "\n",
    "record_memo(\"memo.wav\", duration=300)\n",
    "\n",
    "with open(\"memo.wav\", \"rb\") as f:\n",
    "    transcript = create_transcript(f)\n",
    "\n",
    "json = LLMCall(transcript)\n",
    "\n",
    "create_docx(json)\n"
   ]
  }
 ],
 "metadata": {
  "kernelspec": {
   "display_name": "referral",
   "language": "python",
   "name": "python3"
  },
  "language_info": {
   "name": "python",
   "version": "3.12.9"
  }
 },
 "nbformat": 4,
 "nbformat_minor": 2
}
